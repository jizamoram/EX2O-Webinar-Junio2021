{
 "cells": [
  {
   "cell_type": "markdown",
   "id": "167773bf-1475-48a3-8f89-e08cad288a9d",
   "metadata": {},
   "source": [
    "## Calculate Euclidean distance to products"
   ]
  },
  {
   "cell_type": "code",
   "execution_count": 2,
   "id": "84b89d13-7965-42de-991a-a9d16811cb48",
   "metadata": {},
   "outputs": [
    {
     "data": {
      "text/html": [
       "<div>\n",
       "<style scoped>\n",
       "    .dataframe tbody tr th:only-of-type {\n",
       "        vertical-align: middle;\n",
       "    }\n",
       "\n",
       "    .dataframe tbody tr th {\n",
       "        vertical-align: top;\n",
       "    }\n",
       "\n",
       "    .dataframe thead th {\n",
       "        text-align: right;\n",
       "    }\n",
       "</style>\n",
       "<table border=\"1\" class=\"dataframe\">\n",
       "  <thead>\n",
       "    <tr style=\"text-align: right;\">\n",
       "      <th></th>\n",
       "      <th>A</th>\n",
       "      <th>B</th>\n",
       "      <th>name</th>\n",
       "      <th>y</th>\n",
       "    </tr>\n",
       "  </thead>\n",
       "  <tbody>\n",
       "    <tr>\n",
       "      <th>0</th>\n",
       "      <td>0.320354</td>\n",
       "      <td>0.761119</td>\n",
       "      <td>100% Bran</td>\n",
       "      <td>0</td>\n",
       "    </tr>\n",
       "    <tr>\n",
       "      <th>1</th>\n",
       "      <td>-0.039224</td>\n",
       "      <td>0.648311</td>\n",
       "      <td>100% Natural Bran</td>\n",
       "      <td>0</td>\n",
       "    </tr>\n",
       "    <tr>\n",
       "      <th>2</th>\n",
       "      <td>0.821615</td>\n",
       "      <td>-0.250014</td>\n",
       "      <td>All-Bran</td>\n",
       "      <td>1</td>\n",
       "    </tr>\n",
       "    <tr>\n",
       "      <th>3</th>\n",
       "      <td>1.027443</td>\n",
       "      <td>0.091117</td>\n",
       "      <td>All-Bran with Extra Fiber</td>\n",
       "      <td>1</td>\n",
       "    </tr>\n",
       "    <tr>\n",
       "      <th>4</th>\n",
       "      <td>-0.097316</td>\n",
       "      <td>0.179982</td>\n",
       "      <td>Almond Delight</td>\n",
       "      <td>0</td>\n",
       "    </tr>\n",
       "  </tbody>\n",
       "</table>\n",
       "</div>"
      ],
      "text/plain": [
       "          A         B                       name  y\n",
       "0  0.320354  0.761119                  100% Bran  0\n",
       "1 -0.039224  0.648311          100% Natural Bran  0\n",
       "2  0.821615 -0.250014                   All-Bran  1\n",
       "3  1.027443  0.091117  All-Bran with Extra Fiber  1\n",
       "4 -0.097316  0.179982             Almond Delight  0"
      ]
     },
     "execution_count": 2,
     "metadata": {},
     "output_type": "execute_result"
    }
   ],
   "source": [
    "# lets use pandas to load the dataset!\n",
    "import pandas as pd\n",
    "\n",
    "data = pd.read_csv('cereal_labeled.csv')\n",
    "data.head()"
   ]
  },
  {
   "cell_type": "code",
   "execution_count": 3,
   "id": "8e4ea1ba-fe16-4adf-97f8-189129c4f171",
   "metadata": {},
   "outputs": [
    {
     "data": {
      "text/plain": [
       "<matplotlib.collections.PathCollection at 0x23d12983ec8>"
      ]
     },
     "execution_count": 3,
     "metadata": {},
     "output_type": "execute_result"
    },
    {
     "data": {
      "image/png": "[encoded data removed]",
      "text/plain": [
       "<Figure size 640x480 with 1 Axes>"
      ]
     },
     "metadata": {
      "needs_background": "light"
     },
     "output_type": "display_data"
    }
   ],
   "source": [
    "import matplotlib.pyplot as plt\n",
    "\n",
    "plt.figure(figsize=(8, 6), dpi=80)\n",
    "plt.scatter(data.A, data.B, c = data.y)\n"
   ]
  },
  {
   "cell_type": "code",
   "execution_count": 23,
   "id": "88be0eae-ef2d-4fcf-84e6-272b6e2c1aa2",
   "metadata": {
    "tags": []
   },
   "outputs": [
    {
     "data": {
      "text/html": [
       "<div>\n",
       "<style scoped>\n",
       "    .dataframe tbody tr th:only-of-type {\n",
       "        vertical-align: middle;\n",
       "    }\n",
       "\n",
       "    .dataframe tbody tr th {\n",
       "        vertical-align: top;\n",
       "    }\n",
       "\n",
       "    .dataframe thead th {\n",
       "        text-align: right;\n",
       "    }\n",
       "</style>\n",
       "<table border=\"1\" class=\"dataframe\">\n",
       "  <thead>\n",
       "    <tr style=\"text-align: right;\">\n",
       "      <th></th>\n",
       "      <th>A</th>\n",
       "      <th>B</th>\n",
       "      <th>name</th>\n",
       "      <th>y</th>\n",
       "    </tr>\n",
       "  </thead>\n",
       "  <tbody>\n",
       "    <tr>\n",
       "      <th>70</th>\n",
       "      <td>-0.782537</td>\n",
       "      <td>-0.585419</td>\n",
       "      <td>Total Raisin Bran</td>\n",
       "      <td>2</td>\n",
       "    </tr>\n",
       "  </tbody>\n",
       "</table>\n",
       "</div>"
      ],
      "text/plain": [
       "           A         B               name  y\n",
       "70 -0.782537 -0.585419  Total Raisin Bran  2"
      ]
     },
     "execution_count": 23,
     "metadata": {},
     "output_type": "execute_result"
    }
   ],
   "source": [
    "ttrb = data[(data['A'] <= -0.75) & (data['B'] <= -0.50) ]\n",
    "ttrb"
   ]
  },
  {
   "cell_type": "code",
   "execution_count": 40,
   "id": "18ed8cef-f702-470b-b96a-a64baec35ea3",
   "metadata": {},
   "outputs": [
    {
     "data": {
      "text/plain": [
       "<matplotlib.collections.PathCollection at 0x23d167d0508>"
      ]
     },
     "execution_count": 40,
     "metadata": {},
     "output_type": "execute_result"
    },
    {
     "data": {
      "image/png": "[encoded data removed]",
      "text/plain": [
       "<Figure size 640x480 with 1 Axes>"
      ]
     },
     "metadata": {
      "needs_background": "light"
     },
     "output_type": "display_data"
    }
   ],
   "source": [
    "plt.figure(figsize=(8, 6), dpi=80)\n",
    "plt.scatter(data.A, data.B, c = data.y)\n",
    "plt.scatter(ttrb.A,ttrb.B, marker = 'o', s=100, linewidth=1, facecolors='none', edgecolors='r')"
   ]
  },
  {
   "cell_type": "code",
   "execution_count": 67,
   "id": "f8258ab3-9f67-495f-923c-4a3612f8cd24",
   "metadata": {},
   "outputs": [
    {
     "data": {
      "text/plain": [
       "1.2393276149185195"
      ]
     },
     "execution_count": 67,
     "metadata": {},
     "output_type": "execute_result"
    }
   ],
   "source": [
    "# euclidean disctance algorithm:\n",
    "\n",
    "import numpy as np\n",
    "\n",
    "def Distance(x1,x2,c1,c2):\n",
    "    X1 = x1\n",
    "    X2 = x2\n",
    "    SquareDiff_X1 = (c1 - X1)**2\n",
    "    SquareDiff_X2 = (c2 - X2)**2\n",
    "    Sum_X1_X2 = SquareDiff_X1 + SquareDiff_X2\n",
    "    Euclidean_Distance = np.sqrt(Sum_X1_X2)\n",
    "    return Euclidean_Distance\n",
    "\n",
    "float(Distance(ttrb.A,ttrb.B, 0.25, 0.1))"
   ]
  },
  {
   "cell_type": "code",
   "execution_count": 70,
   "id": "07ebbc04-12b4-4b04-8242-e9c146f2614e",
   "metadata": {},
   "outputs": [
    {
     "data": {
      "text/plain": [
       "[1.7405560827312199,\n",
       " 1.4403484452068132,\n",
       " 1.6388415303130046,\n",
       " 1.9322861896631052,\n",
       " 1.027310781923965,\n",
       " 0.36304005951120555,\n",
       " 1.3538258193319526,\n",
       " 0.30416669906528826,\n",
       " 1.2123968423161617,\n",
       " 1.3558874797763965]"
      ]
     },
     "execution_count": 70,
     "metadata": {},
     "output_type": "execute_result"
    }
   ],
   "source": [
    "dist = [float(Distance(ttrb.A,ttrb.B, A, B)) for A,B in zip(data.A, data.B)]\n",
    "\n",
    "dist[:10]"
   ]
  },
  {
   "cell_type": "code",
   "execution_count": 72,
   "id": "45a6dce4-2ed1-4cfa-ab86-d951d5551524",
   "metadata": {},
   "outputs": [
    {
     "data": {
      "text/html": [
       "<div>\n",
       "<style scoped>\n",
       "    .dataframe tbody tr th:only-of-type {\n",
       "        vertical-align: middle;\n",
       "    }\n",
       "\n",
       "    .dataframe tbody tr th {\n",
       "        vertical-align: top;\n",
       "    }\n",
       "\n",
       "    .dataframe thead th {\n",
       "        text-align: right;\n",
       "    }\n",
       "</style>\n",
       "<table border=\"1\" class=\"dataframe\">\n",
       "  <thead>\n",
       "    <tr style=\"text-align: right;\">\n",
       "      <th></th>\n",
       "      <th>A</th>\n",
       "      <th>B</th>\n",
       "      <th>name</th>\n",
       "      <th>y</th>\n",
       "      <th>close</th>\n",
       "    </tr>\n",
       "  </thead>\n",
       "  <tbody>\n",
       "    <tr>\n",
       "      <th>0</th>\n",
       "      <td>0.320354</td>\n",
       "      <td>0.761119</td>\n",
       "      <td>100% Bran</td>\n",
       "      <td>0</td>\n",
       "      <td>1.740556</td>\n",
       "    </tr>\n",
       "    <tr>\n",
       "      <th>1</th>\n",
       "      <td>-0.039224</td>\n",
       "      <td>0.648311</td>\n",
       "      <td>100% Natural Bran</td>\n",
       "      <td>0</td>\n",
       "      <td>1.440348</td>\n",
       "    </tr>\n",
       "    <tr>\n",
       "      <th>2</th>\n",
       "      <td>0.821615</td>\n",
       "      <td>-0.250014</td>\n",
       "      <td>All-Bran</td>\n",
       "      <td>1</td>\n",
       "      <td>1.638842</td>\n",
       "    </tr>\n",
       "    <tr>\n",
       "      <th>3</th>\n",
       "      <td>1.027443</td>\n",
       "      <td>0.091117</td>\n",
       "      <td>All-Bran with Extra Fiber</td>\n",
       "      <td>1</td>\n",
       "      <td>1.932286</td>\n",
       "    </tr>\n",
       "    <tr>\n",
       "      <th>4</th>\n",
       "      <td>-0.097316</td>\n",
       "      <td>0.179982</td>\n",
       "      <td>Almond Delight</td>\n",
       "      <td>0</td>\n",
       "      <td>1.027311</td>\n",
       "    </tr>\n",
       "    <tr>\n",
       "      <th>5</th>\n",
       "      <td>-0.797336</td>\n",
       "      <td>-0.222681</td>\n",
       "      <td>Apple Cinnamon Cheerios</td>\n",
       "      <td>2</td>\n",
       "      <td>0.363040</td>\n",
       "    </tr>\n",
       "    <tr>\n",
       "      <th>6</th>\n",
       "      <td>0.570313</td>\n",
       "      <td>-0.534022</td>\n",
       "      <td>Apple Jacks</td>\n",
       "      <td>1</td>\n",
       "      <td>1.353826</td>\n",
       "    </tr>\n",
       "    <tr>\n",
       "      <th>7</th>\n",
       "      <td>-0.764793</td>\n",
       "      <td>-0.281771</td>\n",
       "      <td>Basic 4</td>\n",
       "      <td>2</td>\n",
       "      <td>0.304167</td>\n",
       "    </tr>\n",
       "    <tr>\n",
       "      <th>8</th>\n",
       "      <td>0.035229</td>\n",
       "      <td>0.309659</td>\n",
       "      <td>Bran Chex</td>\n",
       "      <td>0</td>\n",
       "      <td>1.212397</td>\n",
       "    </tr>\n",
       "    <tr>\n",
       "      <th>9</th>\n",
       "      <td>0.129980</td>\n",
       "      <td>0.417448</td>\n",
       "      <td>Bran Flakes</td>\n",
       "      <td>0</td>\n",
       "      <td>1.355887</td>\n",
       "    </tr>\n",
       "  </tbody>\n",
       "</table>\n",
       "</div>"
      ],
      "text/plain": [
       "          A         B                       name  y     close\n",
       "0  0.320354  0.761119                  100% Bran  0  1.740556\n",
       "1 -0.039224  0.648311          100% Natural Bran  0  1.440348\n",
       "2  0.821615 -0.250014                   All-Bran  1  1.638842\n",
       "3  1.027443  0.091117  All-Bran with Extra Fiber  1  1.932286\n",
       "4 -0.097316  0.179982             Almond Delight  0  1.027311\n",
       "5 -0.797336 -0.222681    Apple Cinnamon Cheerios  2  0.363040\n",
       "6  0.570313 -0.534022                Apple Jacks  1  1.353826\n",
       "7 -0.764793 -0.281771                    Basic 4  2  0.304167\n",
       "8  0.035229  0.309659                  Bran Chex  0  1.212397\n",
       "9  0.129980  0.417448                Bran Flakes  0  1.355887"
      ]
     },
     "execution_count": 72,
     "metadata": {},
     "output_type": "execute_result"
    }
   ],
   "source": [
    "data_recomm = data.copy()\n",
    "data_recomm['close'] = dist\n",
    "\n",
    "data_recomm.head(10)"
   ]
  },
  {
   "cell_type": "code",
   "execution_count": 73,
   "id": "c67d950d-5a06-4a5a-a4cc-542bb029e407",
   "metadata": {},
   "outputs": [],
   "source": [
    "# sort dataframe by closeness and select top 5"
   ]
  },
  {
   "cell_type": "code",
   "execution_count": 76,
   "id": "01f831f6-8aee-4ec8-9a91-854a8df861a2",
   "metadata": {},
   "outputs": [
    {
     "data": {
      "text/html": [
       "<div>\n",
       "<style scoped>\n",
       "    .dataframe tbody tr th:only-of-type {\n",
       "        vertical-align: middle;\n",
       "    }\n",
       "\n",
       "    .dataframe tbody tr th {\n",
       "        vertical-align: top;\n",
       "    }\n",
       "\n",
       "    .dataframe thead th {\n",
       "        text-align: right;\n",
       "    }\n",
       "</style>\n",
       "<table border=\"1\" class=\"dataframe\">\n",
       "  <thead>\n",
       "    <tr style=\"text-align: right;\">\n",
       "      <th></th>\n",
       "      <th>A</th>\n",
       "      <th>B</th>\n",
       "      <th>name</th>\n",
       "      <th>y</th>\n",
       "      <th>close</th>\n",
       "    </tr>\n",
       "  </thead>\n",
       "  <tbody>\n",
       "    <tr>\n",
       "      <th>70</th>\n",
       "      <td>-0.782537</td>\n",
       "      <td>-0.585419</td>\n",
       "      <td>Total Raisin Bran</td>\n",
       "      <td>2</td>\n",
       "      <td>0.000000</td>\n",
       "    </tr>\n",
       "    <tr>\n",
       "      <th>31</th>\n",
       "      <td>-0.847496</td>\n",
       "      <td>-0.359557</td>\n",
       "      <td>Golden Grahams</td>\n",
       "      <td>2</td>\n",
       "      <td>0.235018</td>\n",
       "    </tr>\n",
       "    <tr>\n",
       "      <th>69</th>\n",
       "      <td>-0.781149</td>\n",
       "      <td>-0.327121</td>\n",
       "      <td>Total Corn Flakes</td>\n",
       "      <td>2</td>\n",
       "      <td>0.258303</td>\n",
       "    </tr>\n",
       "    <tr>\n",
       "      <th>18</th>\n",
       "      <td>-0.846576</td>\n",
       "      <td>-0.329661</td>\n",
       "      <td>Count Chocula</td>\n",
       "      <td>2</td>\n",
       "      <td>0.263653</td>\n",
       "    </tr>\n",
       "    <tr>\n",
       "      <th>14</th>\n",
       "      <td>-0.848137</td>\n",
       "      <td>-0.329732</td>\n",
       "      <td>Cocoa Puffs</td>\n",
       "      <td>2</td>\n",
       "      <td>0.263968</td>\n",
       "    </tr>\n",
       "    <tr>\n",
       "      <th>12</th>\n",
       "      <td>-0.886334</td>\n",
       "      <td>-0.309535</td>\n",
       "      <td>Cinnamon Toast Crunch</td>\n",
       "      <td>2</td>\n",
       "      <td>0.294764</td>\n",
       "    </tr>\n",
       "    <tr>\n",
       "      <th>42</th>\n",
       "      <td>-0.817588</td>\n",
       "      <td>-0.285800</td>\n",
       "      <td>Lucky Charms</td>\n",
       "      <td>2</td>\n",
       "      <td>0.301662</td>\n",
       "    </tr>\n",
       "    <tr>\n",
       "      <th>7</th>\n",
       "      <td>-0.764793</td>\n",
       "      <td>-0.281771</td>\n",
       "      <td>Basic 4</td>\n",
       "      <td>2</td>\n",
       "      <td>0.304167</td>\n",
       "    </tr>\n",
       "    <tr>\n",
       "      <th>36</th>\n",
       "      <td>-0.772120</td>\n",
       "      <td>-0.273806</td>\n",
       "      <td>Honey Nut Cheerios</td>\n",
       "      <td>2</td>\n",
       "      <td>0.311787</td>\n",
       "    </tr>\n",
       "    <tr>\n",
       "      <th>73</th>\n",
       "      <td>-0.825630</td>\n",
       "      <td>-0.265390</td>\n",
       "      <td>Trix</td>\n",
       "      <td>2</td>\n",
       "      <td>0.322918</td>\n",
       "    </tr>\n",
       "  </tbody>\n",
       "</table>\n",
       "</div>"
      ],
      "text/plain": [
       "           A         B                   name  y     close\n",
       "70 -0.782537 -0.585419      Total Raisin Bran  2  0.000000\n",
       "31 -0.847496 -0.359557         Golden Grahams  2  0.235018\n",
       "69 -0.781149 -0.327121      Total Corn Flakes  2  0.258303\n",
       "18 -0.846576 -0.329661          Count Chocula  2  0.263653\n",
       "14 -0.848137 -0.329732            Cocoa Puffs  2  0.263968\n",
       "12 -0.886334 -0.309535  Cinnamon Toast Crunch  2  0.294764\n",
       "42 -0.817588 -0.285800           Lucky Charms  2  0.301662\n",
       "7  -0.764793 -0.281771                Basic 4  2  0.304167\n",
       "36 -0.772120 -0.273806     Honey Nut Cheerios  2  0.311787\n",
       "73 -0.825630 -0.265390                   Trix  2  0.322918"
      ]
     },
     "execution_count": 76,
     "metadata": {},
     "output_type": "execute_result"
    }
   ],
   "source": [
    "data_recomm = data_recomm.sort_values(by='close', ascending=True)\n",
    "data_recomm.head(10)"
   ]
  },
  {
   "cell_type": "code",
   "execution_count": 81,
   "id": "588f0bb9-a68e-428e-9078-62cfea63fcb0",
   "metadata": {},
   "outputs": [
    {
     "data": {
      "text/html": [
       "<div>\n",
       "<style scoped>\n",
       "    .dataframe tbody tr th:only-of-type {\n",
       "        vertical-align: middle;\n",
       "    }\n",
       "\n",
       "    .dataframe tbody tr th {\n",
       "        vertical-align: top;\n",
       "    }\n",
       "\n",
       "    .dataframe thead th {\n",
       "        text-align: right;\n",
       "    }\n",
       "</style>\n",
       "<table border=\"1\" class=\"dataframe\">\n",
       "  <thead>\n",
       "    <tr style=\"text-align: right;\">\n",
       "      <th></th>\n",
       "      <th>A</th>\n",
       "      <th>B</th>\n",
       "      <th>name</th>\n",
       "      <th>y</th>\n",
       "      <th>close</th>\n",
       "    </tr>\n",
       "  </thead>\n",
       "  <tbody>\n",
       "    <tr>\n",
       "      <th>31</th>\n",
       "      <td>-0.847496</td>\n",
       "      <td>-0.359557</td>\n",
       "      <td>Golden Grahams</td>\n",
       "      <td>2</td>\n",
       "      <td>0.235018</td>\n",
       "    </tr>\n",
       "    <tr>\n",
       "      <th>69</th>\n",
       "      <td>-0.781149</td>\n",
       "      <td>-0.327121</td>\n",
       "      <td>Total Corn Flakes</td>\n",
       "      <td>2</td>\n",
       "      <td>0.258303</td>\n",
       "    </tr>\n",
       "    <tr>\n",
       "      <th>18</th>\n",
       "      <td>-0.846576</td>\n",
       "      <td>-0.329661</td>\n",
       "      <td>Count Chocula</td>\n",
       "      <td>2</td>\n",
       "      <td>0.263653</td>\n",
       "    </tr>\n",
       "    <tr>\n",
       "      <th>14</th>\n",
       "      <td>-0.848137</td>\n",
       "      <td>-0.329732</td>\n",
       "      <td>Cocoa Puffs</td>\n",
       "      <td>2</td>\n",
       "      <td>0.263968</td>\n",
       "    </tr>\n",
       "    <tr>\n",
       "      <th>12</th>\n",
       "      <td>-0.886334</td>\n",
       "      <td>-0.309535</td>\n",
       "      <td>Cinnamon Toast Crunch</td>\n",
       "      <td>2</td>\n",
       "      <td>0.294764</td>\n",
       "    </tr>\n",
       "  </tbody>\n",
       "</table>\n",
       "</div>"
      ],
      "text/plain": [
       "           A         B                   name  y     close\n",
       "31 -0.847496 -0.359557         Golden Grahams  2  0.235018\n",
       "69 -0.781149 -0.327121      Total Corn Flakes  2  0.258303\n",
       "18 -0.846576 -0.329661          Count Chocula  2  0.263653\n",
       "14 -0.848137 -0.329732            Cocoa Puffs  2  0.263968\n",
       "12 -0.886334 -0.309535  Cinnamon Toast Crunch  2  0.294764"
      ]
     },
     "execution_count": 81,
     "metadata": {},
     "output_type": "execute_result"
    }
   ],
   "source": [
    "top5 = data_recomm.iloc[1:6, :].copy()\n",
    "top5"
   ]
  },
  {
   "cell_type": "code",
   "execution_count": 83,
   "id": "fae5c50d-2ad6-4f0f-bc52-e34d41f4f5c5",
   "metadata": {},
   "outputs": [
    {
     "data": {
      "image/png": "[encoded data removed]",
      "text/plain": [
       "<Figure size 640x480 with 1 Axes>"
      ]
     },
     "metadata": {
      "needs_background": "light"
     },
     "output_type": "display_data"
    }
   ],
   "source": [
    "plt.figure(figsize=(8, 6), dpi=80)\n",
    "plt.scatter(data.A, data.B, c = data.y)\n",
    "plt.scatter(ttrb.A,ttrb.B, marker = 'o', s=100, linewidth=1, facecolors='none', edgecolors='r')\n",
    "for a,b in zip(top5.A, top5.B):\n",
    "    plt.scatter(a,b, marker = 'o', s=100, linewidth=1, facecolors='none', edgecolors='b')"
   ]
  },
  {
   "cell_type": "code",
   "execution_count": 86,
   "id": "2d25b367-ccdc-4319-abde-facd7e336eef",
   "metadata": {},
   "outputs": [
    {
     "name": "stdout",
     "output_type": "stream",
     "text": [
      "If you like Total Raisin Bran you might also like\n",
      "Golden Grahams\n",
      "Total Corn Flakes\n",
      "Count Chocula\n",
      "Cocoa Puffs\n",
      "Cinnamon Toast Crunch\n"
     ]
    }
   ],
   "source": [
    "print(\"If you like Total Raisin Bran you might also like\")\n",
    "for n in top5.name:\n",
    "    print(n)"
   ]
  },
  {
   "cell_type": "code",
   "execution_count": null,
   "id": "fa1cd6de-2783-427f-bf6c-ef04babee5a2",
   "metadata": {},
   "outputs": [],
   "source": []
  }
 ],
 "metadata": {
  "kernelspec": {
   "display_name": "Python 3",
   "language": "python",
   "name": "python3"
  },
  "language_info": {
   "codemirror_mode": {
    "name": "ipython",
    "version": 3
   },
   "file_extension": ".py",
   "mimetype": "text/x-python",
   "name": "python",
   "nbconvert_exporter": "python",
   "pygments_lexer": "ipython3",
   "version": "3.7.9"
  }
 },
 "nbformat": 4,
 "nbformat_minor": 5
}
