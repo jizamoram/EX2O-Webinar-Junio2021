{
 "cells": [
  {
   "cell_type": "markdown",
   "id": "d87ee0f0-ccf0-48c0-8c46-15e825bb0725",
   "metadata": {},
   "source": [
    "### Clustering with KMeans!\n",
    "\n",
    "more info on the algorithm: <a href=\"https://github.com/drzamoramora/AI01-MachineLearning/blob/master/Semana%209%20-%20Aprendizaje%20no%20supervisado/1-K-medias.ipynb\">here</a>"
   ]
  },
  {
   "cell_type": "code",
   "execution_count": 27,
   "id": "68dfcae9-68d8-43fa-bd21-043fbc7ed016",
   "metadata": {},
   "outputs": [
    {
     "data": {
      "text/html": [
       "<div>\n",
       "<style scoped>\n",
       "    .dataframe tbody tr th:only-of-type {\n",
       "        vertical-align: middle;\n",
       "    }\n",
       "\n",
       "    .dataframe tbody tr th {\n",
       "        vertical-align: top;\n",
       "    }\n",
       "\n",
       "    .dataframe thead th {\n",
       "        text-align: right;\n",
       "    }\n",
       "</style>\n",
       "<table border=\"1\" class=\"dataframe\">\n",
       "  <thead>\n",
       "    <tr style=\"text-align: right;\">\n",
       "      <th></th>\n",
       "      <th>A</th>\n",
       "      <th>B</th>\n",
       "      <th>name</th>\n",
       "    </tr>\n",
       "  </thead>\n",
       "  <tbody>\n",
       "    <tr>\n",
       "      <th>0</th>\n",
       "      <td>0.320354</td>\n",
       "      <td>0.761119</td>\n",
       "      <td>100% Bran</td>\n",
       "    </tr>\n",
       "    <tr>\n",
       "      <th>1</th>\n",
       "      <td>-0.039224</td>\n",
       "      <td>0.648311</td>\n",
       "      <td>100% Natural Bran</td>\n",
       "    </tr>\n",
       "    <tr>\n",
       "      <th>2</th>\n",
       "      <td>0.821615</td>\n",
       "      <td>-0.250014</td>\n",
       "      <td>All-Bran</td>\n",
       "    </tr>\n",
       "    <tr>\n",
       "      <th>3</th>\n",
       "      <td>1.027443</td>\n",
       "      <td>0.091117</td>\n",
       "      <td>All-Bran with Extra Fiber</td>\n",
       "    </tr>\n",
       "    <tr>\n",
       "      <th>4</th>\n",
       "      <td>-0.097316</td>\n",
       "      <td>0.179982</td>\n",
       "      <td>Almond Delight</td>\n",
       "    </tr>\n",
       "    <tr>\n",
       "      <th>5</th>\n",
       "      <td>-0.797336</td>\n",
       "      <td>-0.222681</td>\n",
       "      <td>Apple Cinnamon Cheerios</td>\n",
       "    </tr>\n",
       "    <tr>\n",
       "      <th>6</th>\n",
       "      <td>0.570313</td>\n",
       "      <td>-0.534022</td>\n",
       "      <td>Apple Jacks</td>\n",
       "    </tr>\n",
       "    <tr>\n",
       "      <th>7</th>\n",
       "      <td>-0.764793</td>\n",
       "      <td>-0.281771</td>\n",
       "      <td>Basic 4</td>\n",
       "    </tr>\n",
       "    <tr>\n",
       "      <th>8</th>\n",
       "      <td>0.035229</td>\n",
       "      <td>0.309659</td>\n",
       "      <td>Bran Chex</td>\n",
       "    </tr>\n",
       "    <tr>\n",
       "      <th>9</th>\n",
       "      <td>0.129980</td>\n",
       "      <td>0.417448</td>\n",
       "      <td>Bran Flakes</td>\n",
       "    </tr>\n",
       "  </tbody>\n",
       "</table>\n",
       "</div>"
      ],
      "text/plain": [
       "          A         B                       name\n",
       "0  0.320354  0.761119                  100% Bran\n",
       "1 -0.039224  0.648311          100% Natural Bran\n",
       "2  0.821615 -0.250014                   All-Bran\n",
       "3  1.027443  0.091117  All-Bran with Extra Fiber\n",
       "4 -0.097316  0.179982             Almond Delight\n",
       "5 -0.797336 -0.222681    Apple Cinnamon Cheerios\n",
       "6  0.570313 -0.534022                Apple Jacks\n",
       "7 -0.764793 -0.281771                    Basic 4\n",
       "8  0.035229  0.309659                  Bran Chex\n",
       "9  0.129980  0.417448                Bran Flakes"
      ]
     },
     "execution_count": 27,
     "metadata": {},
     "output_type": "execute_result"
    }
   ],
   "source": [
    "# lets use pandas to load the dataset!\n",
    "import pandas as pd\n",
    "\n",
    "data = pd.read_csv('cereal_pca.csv')\n",
    "data.head(10)"
   ]
  },
  {
   "cell_type": "code",
   "execution_count": 28,
   "id": "30653147-6636-4185-9759-f8601fe2c329",
   "metadata": {},
   "outputs": [
    {
     "data": {
      "text/plain": [
       "<matplotlib.collections.PathCollection at 0x16ac8fc27c8>"
      ]
     },
     "execution_count": 28,
     "metadata": {},
     "output_type": "execute_result"
    },
    {
     "data": {
      "image/png": "[encoded data removed]",
      "text/plain": [
       "<Figure size 640x480 with 1 Axes>"
      ]
     },
     "metadata": {
      "needs_background": "light"
     },
     "output_type": "display_data"
    }
   ],
   "source": [
    "import matplotlib.pyplot as plt\n",
    "\n",
    "plt.figure(figsize=(8, 6), dpi=80)\n",
    "plt.scatter(data.A, data.B)"
   ]
  },
  {
   "cell_type": "markdown",
   "id": "f5177927-af58-4d21-bb5d-5d8d74197bff",
   "metadata": {},
   "source": [
    "### Generate Clusters with KMEANS"
   ]
  },
  {
   "cell_type": "code",
   "execution_count": 29,
   "id": "02ecd5f7-d46d-4dce-b3fc-b2c5aa64fa97",
   "metadata": {},
   "outputs": [
    {
     "data": {
      "text/html": [
       "<div>\n",
       "<style scoped>\n",
       "    .dataframe tbody tr th:only-of-type {\n",
       "        vertical-align: middle;\n",
       "    }\n",
       "\n",
       "    .dataframe tbody tr th {\n",
       "        vertical-align: top;\n",
       "    }\n",
       "\n",
       "    .dataframe thead th {\n",
       "        text-align: right;\n",
       "    }\n",
       "</style>\n",
       "<table border=\"1\" class=\"dataframe\">\n",
       "  <thead>\n",
       "    <tr style=\"text-align: right;\">\n",
       "      <th></th>\n",
       "      <th>A</th>\n",
       "      <th>B</th>\n",
       "    </tr>\n",
       "  </thead>\n",
       "  <tbody>\n",
       "    <tr>\n",
       "      <th>0</th>\n",
       "      <td>0.320354</td>\n",
       "      <td>0.761119</td>\n",
       "    </tr>\n",
       "    <tr>\n",
       "      <th>1</th>\n",
       "      <td>-0.039224</td>\n",
       "      <td>0.648311</td>\n",
       "    </tr>\n",
       "    <tr>\n",
       "      <th>2</th>\n",
       "      <td>0.821615</td>\n",
       "      <td>-0.250014</td>\n",
       "    </tr>\n",
       "    <tr>\n",
       "      <th>3</th>\n",
       "      <td>1.027443</td>\n",
       "      <td>0.091117</td>\n",
       "    </tr>\n",
       "    <tr>\n",
       "      <th>4</th>\n",
       "      <td>-0.097316</td>\n",
       "      <td>0.179982</td>\n",
       "    </tr>\n",
       "  </tbody>\n",
       "</table>\n",
       "</div>"
      ],
      "text/plain": [
       "          A         B\n",
       "0  0.320354  0.761119\n",
       "1 -0.039224  0.648311\n",
       "2  0.821615 -0.250014\n",
       "3  1.027443  0.091117\n",
       "4 -0.097316  0.179982"
      ]
     },
     "execution_count": 29,
     "metadata": {},
     "output_type": "execute_result"
    }
   ],
   "source": [
    "# remove name\n",
    "name =  data.name\n",
    "data = data[data.columns.difference(['name'])]\n",
    "data.head()"
   ]
  },
  {
   "cell_type": "code",
   "execution_count": 30,
   "id": "2e063263-eb5b-45c7-b7c8-674bb622ae25",
   "metadata": {},
   "outputs": [
    {
     "data": {
      "text/html": [
       "<div>\n",
       "<style scoped>\n",
       "    .dataframe tbody tr th:only-of-type {\n",
       "        vertical-align: middle;\n",
       "    }\n",
       "\n",
       "    .dataframe tbody tr th {\n",
       "        vertical-align: top;\n",
       "    }\n",
       "\n",
       "    .dataframe thead th {\n",
       "        text-align: right;\n",
       "    }\n",
       "</style>\n",
       "<table border=\"1\" class=\"dataframe\">\n",
       "  <thead>\n",
       "    <tr style=\"text-align: right;\">\n",
       "      <th></th>\n",
       "      <th>A</th>\n",
       "      <th>B</th>\n",
       "      <th>name</th>\n",
       "      <th>y</th>\n",
       "    </tr>\n",
       "  </thead>\n",
       "  <tbody>\n",
       "    <tr>\n",
       "      <th>0</th>\n",
       "      <td>0.320354</td>\n",
       "      <td>0.761119</td>\n",
       "      <td>100% Bran</td>\n",
       "      <td>0</td>\n",
       "    </tr>\n",
       "    <tr>\n",
       "      <th>1</th>\n",
       "      <td>-0.039224</td>\n",
       "      <td>0.648311</td>\n",
       "      <td>100% Natural Bran</td>\n",
       "      <td>0</td>\n",
       "    </tr>\n",
       "    <tr>\n",
       "      <th>2</th>\n",
       "      <td>0.821615</td>\n",
       "      <td>-0.250014</td>\n",
       "      <td>All-Bran</td>\n",
       "      <td>1</td>\n",
       "    </tr>\n",
       "    <tr>\n",
       "      <th>3</th>\n",
       "      <td>1.027443</td>\n",
       "      <td>0.091117</td>\n",
       "      <td>All-Bran with Extra Fiber</td>\n",
       "      <td>1</td>\n",
       "    </tr>\n",
       "    <tr>\n",
       "      <th>4</th>\n",
       "      <td>-0.097316</td>\n",
       "      <td>0.179982</td>\n",
       "      <td>Almond Delight</td>\n",
       "      <td>0</td>\n",
       "    </tr>\n",
       "    <tr>\n",
       "      <th>5</th>\n",
       "      <td>-0.797336</td>\n",
       "      <td>-0.222681</td>\n",
       "      <td>Apple Cinnamon Cheerios</td>\n",
       "      <td>2</td>\n",
       "    </tr>\n",
       "    <tr>\n",
       "      <th>6</th>\n",
       "      <td>0.570313</td>\n",
       "      <td>-0.534022</td>\n",
       "      <td>Apple Jacks</td>\n",
       "      <td>1</td>\n",
       "    </tr>\n",
       "    <tr>\n",
       "      <th>7</th>\n",
       "      <td>-0.764793</td>\n",
       "      <td>-0.281771</td>\n",
       "      <td>Basic 4</td>\n",
       "      <td>2</td>\n",
       "    </tr>\n",
       "    <tr>\n",
       "      <th>8</th>\n",
       "      <td>0.035229</td>\n",
       "      <td>0.309659</td>\n",
       "      <td>Bran Chex</td>\n",
       "      <td>0</td>\n",
       "    </tr>\n",
       "    <tr>\n",
       "      <th>9</th>\n",
       "      <td>0.129980</td>\n",
       "      <td>0.417448</td>\n",
       "      <td>Bran Flakes</td>\n",
       "      <td>0</td>\n",
       "    </tr>\n",
       "  </tbody>\n",
       "</table>\n",
       "</div>"
      ],
      "text/plain": [
       "          A         B                       name  y\n",
       "0  0.320354  0.761119                  100% Bran  0\n",
       "1 -0.039224  0.648311          100% Natural Bran  0\n",
       "2  0.821615 -0.250014                   All-Bran  1\n",
       "3  1.027443  0.091117  All-Bran with Extra Fiber  1\n",
       "4 -0.097316  0.179982             Almond Delight  0\n",
       "5 -0.797336 -0.222681    Apple Cinnamon Cheerios  2\n",
       "6  0.570313 -0.534022                Apple Jacks  1\n",
       "7 -0.764793 -0.281771                    Basic 4  2\n",
       "8  0.035229  0.309659                  Bran Chex  0\n",
       "9  0.129980  0.417448                Bran Flakes  0"
      ]
     },
     "execution_count": 30,
     "metadata": {},
     "output_type": "execute_result"
    }
   ],
   "source": [
    "import numpy as np\n",
    "from sklearn.cluster import KMeans\n",
    "kmeans = KMeans(n_clusters=3, random_state=0).fit(data)\n",
    "labels = kmeans.labels_\n",
    "\n",
    "data['name'] = name\n",
    "data['y'] = labels\n",
    "\n",
    "data.head(10)"
   ]
  },
  {
   "cell_type": "code",
   "execution_count": 31,
   "id": "5f795c0f-fa80-4318-83b7-f6934e5296f7",
   "metadata": {},
   "outputs": [
    {
     "data": {
      "text/plain": [
       "<matplotlib.collections.PathCollection at 0x16ac8e439c8>"
      ]
     },
     "execution_count": 31,
     "metadata": {},
     "output_type": "execute_result"
    },
    {
     "data": {
      "image/png": "[encoded data removed]",
      "text/plain": [
       "<Figure size 640x480 with 1 Axes>"
      ]
     },
     "metadata": {
      "needs_background": "light"
     },
     "output_type": "display_data"
    }
   ],
   "source": [
    "plt.figure(figsize=(8, 6), dpi=80)\n",
    "plt.scatter(data.A, data.B, c = data.y)"
   ]
  },
  {
   "cell_type": "markdown",
   "id": "83144ed2-e889-4791-8bba-a1895bf60953",
   "metadata": {},
   "source": [
    "### List products from each group"
   ]
  },
  {
   "cell_type": "code",
   "execution_count": 32,
   "id": "3e5b3af0-8b29-4b81-8ce1-193245948525",
   "metadata": {},
   "outputs": [
    {
     "name": "stdout",
     "output_type": "stream",
     "text": [
      "Group 0\n",
      "0                                  100% Bran\n",
      "1                          100% Natural Bran\n",
      "4                             Almond Delight\n",
      "8                                  Bran Chex\n",
      "9                                Bran Flakes\n",
      "10                              Cap'n'Crunch\n",
      "15                                 Corn Chex\n",
      "20                    Cream of Wheat (Quick)\n",
      "23                               Double Chex\n",
      "27    Fruit & Fibre Dates; Walnuts; and Oats\n",
      "29                            Fruity Pebbles\n",
      "30                              Golden Crisp\n",
      "32                         Grape Nuts Flakes\n",
      "33                                Grape-Nuts\n",
      "34                        Great Grains Pecan\n",
      "35                          Honey Graham Ohs\n",
      "37                                Honey-comb\n",
      "41                                      Life\n",
      "43                                     Maypo\n",
      "44          Muesli Raisins; Dates; & Almonds\n",
      "45         Muesli Raisins; Peaches; & Pecans\n",
      "52                     Post Nat. Raisin Bran\n",
      "54                               Puffed Rice\n",
      "55                              Puffed Wheat\n",
      "56                        Quaker Oat Squares\n",
      "57                            Quaker Oatmeal\n",
      "61                                 Rice Chex\n",
      "63                            Shredded Wheat\n",
      "64                    Shredded Wheat 'n'Bran\n",
      "65                 Shredded Wheat spoon size\n",
      "68                   Strawberry Fruit Wheats\n",
      "74                                Wheat Chex\n",
      "Name: name, dtype: object\n"
     ]
    }
   ],
   "source": [
    "print(\"Group 0\")\n",
    "print(data.name[data.y == 0])"
   ]
  },
  {
   "cell_type": "code",
   "execution_count": 34,
   "id": "fb12e6b3-30ab-4f9b-a24a-e7d5bcf0f669",
   "metadata": {},
   "outputs": [],
   "source": [
    "data.to_csv(\"cereal_labeled.csv\", index = False)"
   ]
  },
  {
   "cell_type": "code",
   "execution_count": null,
   "id": "138b735b-0e36-4465-8920-759c6d3e48e0",
   "metadata": {},
   "outputs": [],
   "source": []
  }
 ],
 "metadata": {
  "kernelspec": {
   "display_name": "Python 3",
   "language": "python",
   "name": "python3"
  },
  "language_info": {
   "codemirror_mode": {
    "name": "ipython",
    "version": 3
   },
   "file_extension": ".py",
   "mimetype": "text/x-python",
   "name": "python",
   "nbconvert_exporter": "python",
   "pygments_lexer": "ipython3",
   "version": "3.7.9"
  }
 },
 "nbformat": 4,
 "nbformat_minor": 5
}
